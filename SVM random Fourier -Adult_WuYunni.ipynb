{
 "cells": [
  {
   "cell_type": "code",
   "execution_count": 1,
   "metadata": {},
   "outputs": [],
   "source": [
    "import pandas as pd\n",
    "import numpy as np\n",
    "import matplotlib.pyplot as plt\n",
    "import csv\n",
    "import random as rd\n",
    "import statistics as stat\n",
    "\n",
    "import warnings\n",
    "\n",
    "import time\n",
    "from sklearn.svm import LinearSVC, SVC, LinearSVR, SVR\n",
    "from sklearn.model_selection import GridSearchCV\n",
    "from sklearn.metrics import classification_report, confusion_matrix"
   ]
  },
  {
   "cell_type": "code",
   "execution_count": 2,
   "metadata": {},
   "outputs": [],
   "source": [
    "## Guassian kernel\n",
    "def guassian(x,y,sigma):\n",
    "    return np.exp(-np.linalg.norm(x-y)**2/(2*sigma**2))\n",
    "\n",
    "## Random Fourier feature\n",
    "def FRF(X,w,b):\n",
    "    D=b.shape[0]\n",
    "    z=np.matmul(w,X.T)+b.reshape(D,1)\n",
    "    return (2/D)**0.5*np.cos(z).T"
   ]
  },
  {
   "cell_type": "markdown",
   "metadata": {},
   "source": [
    "## 3 Adult\n",
    "### 3.1 Import data"
   ]
  },
  {
   "cell_type": "code",
   "execution_count": 3,
   "metadata": {},
   "outputs": [
    {
     "data": {
      "text/html": [
       "<div>\n",
       "<style scoped>\n",
       "    .dataframe tbody tr th:only-of-type {\n",
       "        vertical-align: middle;\n",
       "    }\n",
       "\n",
       "    .dataframe tbody tr th {\n",
       "        vertical-align: top;\n",
       "    }\n",
       "\n",
       "    .dataframe thead th {\n",
       "        text-align: right;\n",
       "    }\n",
       "</style>\n",
       "<table border=\"1\" class=\"dataframe\">\n",
       "  <thead>\n",
       "    <tr style=\"text-align: right;\">\n",
       "      <th></th>\n",
       "      <th>age</th>\n",
       "      <th>workclass</th>\n",
       "      <th>fnlwgt</th>\n",
       "      <th>education</th>\n",
       "      <th>education-num</th>\n",
       "      <th>marital-status</th>\n",
       "      <th>occupation</th>\n",
       "      <th>relationship</th>\n",
       "      <th>race</th>\n",
       "      <th>sex</th>\n",
       "      <th>capital-gain</th>\n",
       "      <th>capital-loss</th>\n",
       "      <th>hours-per-week</th>\n",
       "      <th>native-country</th>\n",
       "      <th>income</th>\n",
       "    </tr>\n",
       "  </thead>\n",
       "  <tbody>\n",
       "    <tr>\n",
       "      <th>0</th>\n",
       "      <td>39</td>\n",
       "      <td>State-gov</td>\n",
       "      <td>77516</td>\n",
       "      <td>Bachelors</td>\n",
       "      <td>13</td>\n",
       "      <td>Never-married</td>\n",
       "      <td>Adm-clerical</td>\n",
       "      <td>Not-in-family</td>\n",
       "      <td>White</td>\n",
       "      <td>Male</td>\n",
       "      <td>2174</td>\n",
       "      <td>0</td>\n",
       "      <td>40</td>\n",
       "      <td>United-States</td>\n",
       "      <td>&lt;=50K</td>\n",
       "    </tr>\n",
       "    <tr>\n",
       "      <th>1</th>\n",
       "      <td>50</td>\n",
       "      <td>Self-emp-not-inc</td>\n",
       "      <td>83311</td>\n",
       "      <td>Bachelors</td>\n",
       "      <td>13</td>\n",
       "      <td>Married-civ-spouse</td>\n",
       "      <td>Exec-managerial</td>\n",
       "      <td>Husband</td>\n",
       "      <td>White</td>\n",
       "      <td>Male</td>\n",
       "      <td>0</td>\n",
       "      <td>0</td>\n",
       "      <td>13</td>\n",
       "      <td>United-States</td>\n",
       "      <td>&lt;=50K</td>\n",
       "    </tr>\n",
       "    <tr>\n",
       "      <th>2</th>\n",
       "      <td>38</td>\n",
       "      <td>Private</td>\n",
       "      <td>215646</td>\n",
       "      <td>HS-grad</td>\n",
       "      <td>9</td>\n",
       "      <td>Divorced</td>\n",
       "      <td>Handlers-cleaners</td>\n",
       "      <td>Not-in-family</td>\n",
       "      <td>White</td>\n",
       "      <td>Male</td>\n",
       "      <td>0</td>\n",
       "      <td>0</td>\n",
       "      <td>40</td>\n",
       "      <td>United-States</td>\n",
       "      <td>&lt;=50K</td>\n",
       "    </tr>\n",
       "    <tr>\n",
       "      <th>3</th>\n",
       "      <td>53</td>\n",
       "      <td>Private</td>\n",
       "      <td>234721</td>\n",
       "      <td>11th</td>\n",
       "      <td>7</td>\n",
       "      <td>Married-civ-spouse</td>\n",
       "      <td>Handlers-cleaners</td>\n",
       "      <td>Husband</td>\n",
       "      <td>Black</td>\n",
       "      <td>Male</td>\n",
       "      <td>0</td>\n",
       "      <td>0</td>\n",
       "      <td>40</td>\n",
       "      <td>United-States</td>\n",
       "      <td>&lt;=50K</td>\n",
       "    </tr>\n",
       "    <tr>\n",
       "      <th>4</th>\n",
       "      <td>28</td>\n",
       "      <td>Private</td>\n",
       "      <td>338409</td>\n",
       "      <td>Bachelors</td>\n",
       "      <td>13</td>\n",
       "      <td>Married-civ-spouse</td>\n",
       "      <td>Prof-specialty</td>\n",
       "      <td>Wife</td>\n",
       "      <td>Black</td>\n",
       "      <td>Female</td>\n",
       "      <td>0</td>\n",
       "      <td>0</td>\n",
       "      <td>40</td>\n",
       "      <td>Cuba</td>\n",
       "      <td>&lt;=50K</td>\n",
       "    </tr>\n",
       "  </tbody>\n",
       "</table>\n",
       "</div>"
      ],
      "text/plain": [
       "   age          workclass  fnlwgt   education  education-num  \\\n",
       "0   39          State-gov   77516   Bachelors             13   \n",
       "1   50   Self-emp-not-inc   83311   Bachelors             13   \n",
       "2   38            Private  215646     HS-grad              9   \n",
       "3   53            Private  234721        11th              7   \n",
       "4   28            Private  338409   Bachelors             13   \n",
       "\n",
       "        marital-status          occupation    relationship    race      sex  \\\n",
       "0        Never-married        Adm-clerical   Not-in-family   White     Male   \n",
       "1   Married-civ-spouse     Exec-managerial         Husband   White     Male   \n",
       "2             Divorced   Handlers-cleaners   Not-in-family   White     Male   \n",
       "3   Married-civ-spouse   Handlers-cleaners         Husband   Black     Male   \n",
       "4   Married-civ-spouse      Prof-specialty            Wife   Black   Female   \n",
       "\n",
       "   capital-gain  capital-loss  hours-per-week  native-country  income  \n",
       "0          2174             0              40   United-States   <=50K  \n",
       "1             0             0              13   United-States   <=50K  \n",
       "2             0             0              40   United-States   <=50K  \n",
       "3             0             0              40   United-States   <=50K  \n",
       "4             0             0              40            Cuba   <=50K  "
      ]
     },
     "execution_count": 3,
     "metadata": {},
     "output_type": "execute_result"
    }
   ],
   "source": [
    "adult_train = pd.read_csv('adult.data', header=None, na_values=' ?')\n",
    "adult_test = pd.read_csv('adult.test', header=None, na_values=' ?')\n",
    "adult_data = pd.concat([adult_train, adult_test])\n",
    "\n",
    "col=['age', 'workclass', 'fnlwgt', 'education', 'education-num', 'marital-status', 'occupation', 'relationship',\n",
    "     'race', 'sex', 'capital-gain', 'capital-loss', 'hours-per-week', 'native-country', 'income']\n",
    "adult_data.columns=col\n",
    "adult_data.head()"
   ]
  },
  {
   "cell_type": "code",
   "execution_count": 4,
   "metadata": {},
   "outputs": [],
   "source": [
    "adult_data = adult_data.dropna()"
   ]
  },
  {
   "cell_type": "code",
   "execution_count": 5,
   "metadata": {},
   "outputs": [],
   "source": [
    "adult_data.loc[(adult_data['income']==' <=50K.')|(adult_data['income']==' <=50K'),'income']=-1\n",
    "adult_data.loc[(adult_data['income']==' >50K.')|(adult_data['income']==' >50K'),'income']=1"
   ]
  },
  {
   "cell_type": "markdown",
   "metadata": {},
   "source": [
    "**one-hot encoding for categorical variables**"
   ]
  },
  {
   "cell_type": "code",
   "execution_count": 6,
   "metadata": {},
   "outputs": [
    {
     "name": "stdout",
     "output_type": "stream",
     "text": [
      "(45222, 7)\n",
      "(45222, 57)\n"
     ]
    },
    {
     "data": {
      "text/html": [
       "<div>\n",
       "<style scoped>\n",
       "    .dataframe tbody tr th:only-of-type {\n",
       "        vertical-align: middle;\n",
       "    }\n",
       "\n",
       "    .dataframe tbody tr th {\n",
       "        vertical-align: top;\n",
       "    }\n",
       "\n",
       "    .dataframe thead th {\n",
       "        text-align: right;\n",
       "    }\n",
       "</style>\n",
       "<table border=\"1\" class=\"dataframe\">\n",
       "  <thead>\n",
       "    <tr style=\"text-align: right;\">\n",
       "      <th></th>\n",
       "      <th>workclass_ Federal-gov</th>\n",
       "      <th>workclass_ Local-gov</th>\n",
       "      <th>workclass_ Private</th>\n",
       "      <th>workclass_ Self-emp-inc</th>\n",
       "      <th>workclass_ Self-emp-not-inc</th>\n",
       "      <th>workclass_ State-gov</th>\n",
       "      <th>workclass_ Without-pay</th>\n",
       "      <th>marital-status_ Divorced</th>\n",
       "      <th>marital-status_ Married-AF-spouse</th>\n",
       "      <th>marital-status_ Married-civ-spouse</th>\n",
       "      <th>...</th>\n",
       "      <th>education_ 9th</th>\n",
       "      <th>education_ Assoc-acdm</th>\n",
       "      <th>education_ Assoc-voc</th>\n",
       "      <th>education_ Bachelors</th>\n",
       "      <th>education_ Doctorate</th>\n",
       "      <th>education_ HS-grad</th>\n",
       "      <th>education_ Masters</th>\n",
       "      <th>education_ Preschool</th>\n",
       "      <th>education_ Prof-school</th>\n",
       "      <th>education_ Some-college</th>\n",
       "    </tr>\n",
       "  </thead>\n",
       "  <tbody>\n",
       "    <tr>\n",
       "      <th>0</th>\n",
       "      <td>0</td>\n",
       "      <td>0</td>\n",
       "      <td>0</td>\n",
       "      <td>0</td>\n",
       "      <td>0</td>\n",
       "      <td>1</td>\n",
       "      <td>0</td>\n",
       "      <td>0</td>\n",
       "      <td>0</td>\n",
       "      <td>0</td>\n",
       "      <td>...</td>\n",
       "      <td>0</td>\n",
       "      <td>0</td>\n",
       "      <td>0</td>\n",
       "      <td>1</td>\n",
       "      <td>0</td>\n",
       "      <td>0</td>\n",
       "      <td>0</td>\n",
       "      <td>0</td>\n",
       "      <td>0</td>\n",
       "      <td>0</td>\n",
       "    </tr>\n",
       "    <tr>\n",
       "      <th>1</th>\n",
       "      <td>0</td>\n",
       "      <td>0</td>\n",
       "      <td>0</td>\n",
       "      <td>0</td>\n",
       "      <td>1</td>\n",
       "      <td>0</td>\n",
       "      <td>0</td>\n",
       "      <td>0</td>\n",
       "      <td>0</td>\n",
       "      <td>1</td>\n",
       "      <td>...</td>\n",
       "      <td>0</td>\n",
       "      <td>0</td>\n",
       "      <td>0</td>\n",
       "      <td>1</td>\n",
       "      <td>0</td>\n",
       "      <td>0</td>\n",
       "      <td>0</td>\n",
       "      <td>0</td>\n",
       "      <td>0</td>\n",
       "      <td>0</td>\n",
       "    </tr>\n",
       "    <tr>\n",
       "      <th>2</th>\n",
       "      <td>0</td>\n",
       "      <td>0</td>\n",
       "      <td>1</td>\n",
       "      <td>0</td>\n",
       "      <td>0</td>\n",
       "      <td>0</td>\n",
       "      <td>0</td>\n",
       "      <td>1</td>\n",
       "      <td>0</td>\n",
       "      <td>0</td>\n",
       "      <td>...</td>\n",
       "      <td>0</td>\n",
       "      <td>0</td>\n",
       "      <td>0</td>\n",
       "      <td>0</td>\n",
       "      <td>0</td>\n",
       "      <td>1</td>\n",
       "      <td>0</td>\n",
       "      <td>0</td>\n",
       "      <td>0</td>\n",
       "      <td>0</td>\n",
       "    </tr>\n",
       "    <tr>\n",
       "      <th>3</th>\n",
       "      <td>0</td>\n",
       "      <td>0</td>\n",
       "      <td>1</td>\n",
       "      <td>0</td>\n",
       "      <td>0</td>\n",
       "      <td>0</td>\n",
       "      <td>0</td>\n",
       "      <td>0</td>\n",
       "      <td>0</td>\n",
       "      <td>1</td>\n",
       "      <td>...</td>\n",
       "      <td>0</td>\n",
       "      <td>0</td>\n",
       "      <td>0</td>\n",
       "      <td>0</td>\n",
       "      <td>0</td>\n",
       "      <td>0</td>\n",
       "      <td>0</td>\n",
       "      <td>0</td>\n",
       "      <td>0</td>\n",
       "      <td>0</td>\n",
       "    </tr>\n",
       "    <tr>\n",
       "      <th>4</th>\n",
       "      <td>0</td>\n",
       "      <td>0</td>\n",
       "      <td>1</td>\n",
       "      <td>0</td>\n",
       "      <td>0</td>\n",
       "      <td>0</td>\n",
       "      <td>0</td>\n",
       "      <td>0</td>\n",
       "      <td>0</td>\n",
       "      <td>1</td>\n",
       "      <td>...</td>\n",
       "      <td>0</td>\n",
       "      <td>0</td>\n",
       "      <td>0</td>\n",
       "      <td>1</td>\n",
       "      <td>0</td>\n",
       "      <td>0</td>\n",
       "      <td>0</td>\n",
       "      <td>0</td>\n",
       "      <td>0</td>\n",
       "      <td>0</td>\n",
       "    </tr>\n",
       "  </tbody>\n",
       "</table>\n",
       "<p>5 rows × 57 columns</p>\n",
       "</div>"
      ],
      "text/plain": [
       "   workclass_ Federal-gov  workclass_ Local-gov  workclass_ Private  \\\n",
       "0                       0                     0                   0   \n",
       "1                       0                     0                   0   \n",
       "2                       0                     0                   1   \n",
       "3                       0                     0                   1   \n",
       "4                       0                     0                   1   \n",
       "\n",
       "   workclass_ Self-emp-inc  workclass_ Self-emp-not-inc  workclass_ State-gov  \\\n",
       "0                        0                            0                     1   \n",
       "1                        0                            1                     0   \n",
       "2                        0                            0                     0   \n",
       "3                        0                            0                     0   \n",
       "4                        0                            0                     0   \n",
       "\n",
       "   workclass_ Without-pay  marital-status_ Divorced  \\\n",
       "0                       0                         0   \n",
       "1                       0                         0   \n",
       "2                       0                         1   \n",
       "3                       0                         0   \n",
       "4                       0                         0   \n",
       "\n",
       "   marital-status_ Married-AF-spouse  marital-status_ Married-civ-spouse  ...  \\\n",
       "0                                  0                                   0  ...   \n",
       "1                                  0                                   1  ...   \n",
       "2                                  0                                   0  ...   \n",
       "3                                  0                                   1  ...   \n",
       "4                                  0                                   1  ...   \n",
       "\n",
       "   education_ 9th  education_ Assoc-acdm  education_ Assoc-voc  \\\n",
       "0               0                      0                     0   \n",
       "1               0                      0                     0   \n",
       "2               0                      0                     0   \n",
       "3               0                      0                     0   \n",
       "4               0                      0                     0   \n",
       "\n",
       "   education_ Bachelors  education_ Doctorate  education_ HS-grad  \\\n",
       "0                     1                     0                   0   \n",
       "1                     1                     0                   0   \n",
       "2                     0                     0                   1   \n",
       "3                     0                     0                   0   \n",
       "4                     1                     0                   0   \n",
       "\n",
       "   education_ Masters  education_ Preschool  education_ Prof-school  \\\n",
       "0                   0                     0                       0   \n",
       "1                   0                     0                       0   \n",
       "2                   0                     0                       0   \n",
       "3                   0                     0                       0   \n",
       "4                   0                     0                       0   \n",
       "\n",
       "   education_ Some-college  \n",
       "0                        0  \n",
       "1                        0  \n",
       "2                        0  \n",
       "3                        0  \n",
       "4                        0  \n",
       "\n",
       "[5 rows x 57 columns]"
      ]
     },
     "execution_count": 6,
     "metadata": {},
     "output_type": "execute_result"
    }
   ],
   "source": [
    "string_columns = ['workclass', 'marital-status', 'occupation', 'relationship', 'race', 'sex','education']\n",
    "string_data = adult_data[string_columns]\n",
    "print(string_data.shape)\n",
    "#one_hot转换\n",
    "string_data = pd.get_dummies(string_data)\n",
    "print(string_data.shape)\n",
    "\n",
    "string_data.head()"
   ]
  },
  {
   "cell_type": "code",
   "execution_count": 7,
   "metadata": {},
   "outputs": [
    {
     "name": "stdout",
     "output_type": "stream",
     "text": [
      "[[0 0 0 ... 0 0 0]\n",
      " [0 0 0 ... 0 0 0]\n",
      " [0 0 1 ... 0 0 0]\n",
      " ...\n",
      " [0 0 1 ... 0 0 0]\n",
      " [0 0 1 ... 0 0 0]\n",
      " [0 0 0 ... 0 0 0]]\n"
     ]
    }
   ],
   "source": [
    "#转换成numpy数组\n",
    "string_data = string_data.values\n",
    "print(string_data)"
   ]
  },
  {
   "cell_type": "code",
   "execution_count": 8,
   "metadata": {},
   "outputs": [
    {
     "name": "stdout",
     "output_type": "stream",
     "text": [
      "(45222, 4)\n",
      "[[0.30136986 0.02174022 0.         0.39795918]\n",
      " [0.45205479 0.         0.         0.12244898]\n",
      " [0.28767123 0.         0.         0.39795918]\n",
      " ...\n",
      " [0.28767123 0.         0.         0.5       ]\n",
      " [0.36986301 0.05455055 0.         0.39795918]\n",
      " [0.24657534 0.         0.         0.60204082]]\n"
     ]
    }
   ],
   "source": [
    "col = ['age','capital-gain','capital-loss', 'hours-per-week']\n",
    "\n",
    "adult=pd.DataFrame()\n",
    "for i in col:\n",
    "    variable=adult_data[i]\n",
    "    # (x-min(x))/(max(x)-min(x))\n",
    "    adult[i]=(variable-variable.min())/(variable.max()-variable.min())\n",
    "print(adult.shape)\n",
    "num_data=adult.iloc[:,:].values\n",
    "print(num_data)"
   ]
  },
  {
   "cell_type": "code",
   "execution_count": 9,
   "metadata": {},
   "outputs": [
    {
     "data": {
      "image/png": "[encoded data removed]",
      "text/plain": [
       "<Figure size 1440x360 with 4 Axes>"
      ]
     },
     "metadata": {
      "needs_background": "light"
     },
     "output_type": "display_data"
    }
   ],
   "source": [
    "fig,ax=plt.subplots(1,4,figsize=(20,5))\n",
    "\n",
    "for i in range(4):\n",
    "    boxes=[adult_data[col[i]][adult_data['income']==-1],adult_data[col[i]][adult_data['income']==1]]\n",
    "    ax[i].boxplot(boxes,notch=False, labels = ['<=50k','>50k'],patch_artist = False)\n",
    "    ax[i].set_xlabel(col[i], fontsize=20)\n",
    "    #ax[i//3,i-i//3*3].set_xlabel(CPU_col[i-1],fontsize=14)"
   ]
  },
  {
   "cell_type": "code",
   "execution_count": 10,
   "metadata": {},
   "outputs": [
    {
     "name": "stdout",
     "output_type": "stream",
     "text": [
      "(45222, 61) (45222,)\n"
     ]
    }
   ],
   "source": [
    "X = np.append(string_data, num_data, axis=1);y=np.array(adult_data['income'])\n",
    "train_length=32561\n",
    "X_train = X[:train_length]\n",
    "y_train = y[:train_length].astype('int')\n",
    "X_test = X[train_length:]\n",
    "y_test = y[train_length:].astype('int')\n",
    "print(X.shape,y.shape)"
   ]
  },
  {
   "cell_type": "markdown",
   "metadata": {},
   "source": [
    "### Grid search"
   ]
  },
  {
   "cell_type": "code",
   "execution_count": 11,
   "metadata": {
    "scrolled": true
   },
   "outputs": [
    {
     "name": "stdout",
     "output_type": "stream",
     "text": [
      "Fitting 5 folds for each of 8 candidates, totalling 40 fits\n",
      "[CV] C=0.01, gamma=1 .................................................\n"
     ]
    },
    {
     "name": "stderr",
     "output_type": "stream",
     "text": [
      "[Parallel(n_jobs=1)]: Using backend SequentialBackend with 1 concurrent workers.\n"
     ]
    },
    {
     "name": "stdout",
     "output_type": "stream",
     "text": [
      "[CV] .................................. C=0.01, gamma=1, total=  49.1s\n",
      "[CV] C=0.01, gamma=1 .................................................\n"
     ]
    },
    {
     "name": "stderr",
     "output_type": "stream",
     "text": [
      "[Parallel(n_jobs=1)]: Done   1 out of   1 | elapsed:   49.0s remaining:    0.0s\n"
     ]
    },
    {
     "name": "stdout",
     "output_type": "stream",
     "text": [
      "[CV] .................................. C=0.01, gamma=1, total=  48.6s\n",
      "[CV] C=0.01, gamma=1 .................................................\n",
      "[CV] .................................. C=0.01, gamma=1, total= 1.0min\n",
      "[CV] C=0.01, gamma=1 .................................................\n",
      "[CV] .................................. C=0.01, gamma=1, total=  48.9s\n",
      "[CV] C=0.01, gamma=1 .................................................\n",
      "[CV] .................................. C=0.01, gamma=1, total=  48.9s\n",
      "[CV] C=0.01, gamma=0.1 ...............................................\n",
      "[CV] ................................ C=0.01, gamma=0.1, total=  32.2s\n",
      "[CV] C=0.01, gamma=0.1 ...............................................\n",
      "[CV] ................................ C=0.01, gamma=0.1, total=  32.4s\n",
      "[CV] C=0.01, gamma=0.1 ...............................................\n",
      "[CV] ................................ C=0.01, gamma=0.1, total=  32.9s\n",
      "[CV] C=0.01, gamma=0.1 ...............................................\n",
      "[CV] ................................ C=0.01, gamma=0.1, total=  32.4s\n",
      "[CV] C=0.01, gamma=0.1 ...............................................\n",
      "[CV] ................................ C=0.01, gamma=0.1, total=  32.6s\n",
      "[CV] C=0.01, gamma=0.001 .............................................\n",
      "[CV] .............................. C=0.01, gamma=0.001, total=  31.4s\n",
      "[CV] C=0.01, gamma=0.001 .............................................\n",
      "[CV] .............................. C=0.01, gamma=0.001, total=  31.7s\n",
      "[CV] C=0.01, gamma=0.001 .............................................\n",
      "[CV] .............................. C=0.01, gamma=0.001, total=  31.1s\n",
      "[CV] C=0.01, gamma=0.001 .............................................\n",
      "[CV] .............................. C=0.01, gamma=0.001, total=  31.4s\n",
      "[CV] C=0.01, gamma=0.001 .............................................\n",
      "[CV] .............................. C=0.01, gamma=0.001, total=  31.5s\n",
      "[CV] C=0.01, gamma=0.0001 ............................................\n",
      "[CV] ............................. C=0.01, gamma=0.0001, total=  30.5s\n",
      "[CV] C=0.01, gamma=0.0001 ............................................\n",
      "[CV] ............................. C=0.01, gamma=0.0001, total=  30.4s\n",
      "[CV] C=0.01, gamma=0.0001 ............................................\n",
      "[CV] ............................. C=0.01, gamma=0.0001, total=  30.9s\n",
      "[CV] C=0.01, gamma=0.0001 ............................................\n",
      "[CV] ............................. C=0.01, gamma=0.0001, total=  30.5s\n",
      "[CV] C=0.01, gamma=0.0001 ............................................\n",
      "[CV] ............................. C=0.01, gamma=0.0001, total=  30.7s\n",
      "[CV] C=0.1, gamma=1 ..................................................\n",
      "[CV] ................................... C=0.1, gamma=1, total= 1.3min\n",
      "[CV] C=0.1, gamma=1 ..................................................\n",
      "[CV] ................................... C=0.1, gamma=1, total= 1.0min\n",
      "[CV] C=0.1, gamma=1 ..................................................\n",
      "[CV] ................................... C=0.1, gamma=1, total= 1.1min\n",
      "[CV] C=0.1, gamma=1 ..................................................\n",
      "[CV] ................................... C=0.1, gamma=1, total= 1.3min\n",
      "[CV] C=0.1, gamma=1 ..................................................\n",
      "[CV] ................................... C=0.1, gamma=1, total= 1.3min\n",
      "[CV] C=0.1, gamma=0.1 ................................................\n",
      "[CV] ................................. C=0.1, gamma=0.1, total=  28.1s\n",
      "[CV] C=0.1, gamma=0.1 ................................................\n",
      "[CV] ................................. C=0.1, gamma=0.1, total=  27.9s\n",
      "[CV] C=0.1, gamma=0.1 ................................................\n",
      "[CV] ................................. C=0.1, gamma=0.1, total=  29.3s\n",
      "[CV] C=0.1, gamma=0.1 ................................................\n",
      "[CV] ................................. C=0.1, gamma=0.1, total=  28.0s\n",
      "[CV] C=0.1, gamma=0.1 ................................................\n",
      "[CV] ................................. C=0.1, gamma=0.1, total=  30.1s\n",
      "[CV] C=0.1, gamma=0.001 ..............................................\n",
      "[CV] ............................... C=0.1, gamma=0.001, total=  33.1s\n",
      "[CV] C=0.1, gamma=0.001 ..............................................\n",
      "[CV] ............................... C=0.1, gamma=0.001, total=  32.1s\n",
      "[CV] C=0.1, gamma=0.001 ..............................................\n",
      "[CV] ............................... C=0.1, gamma=0.001, total=  32.2s\n",
      "[CV] C=0.1, gamma=0.001 ..............................................\n",
      "[CV] ............................... C=0.1, gamma=0.001, total=  32.1s\n",
      "[CV] C=0.1, gamma=0.001 ..............................................\n",
      "[CV] ............................... C=0.1, gamma=0.001, total=  33.0s\n",
      "[CV] C=0.1, gamma=0.0001 .............................................\n",
      "[CV] .............................. C=0.1, gamma=0.0001, total=  32.5s\n",
      "[CV] C=0.1, gamma=0.0001 .............................................\n",
      "[CV] .............................. C=0.1, gamma=0.0001, total=  32.5s\n",
      "[CV] C=0.1, gamma=0.0001 .............................................\n",
      "[CV] .............................. C=0.1, gamma=0.0001, total=  31.9s\n",
      "[CV] C=0.1, gamma=0.0001 .............................................\n",
      "[CV] .............................. C=0.1, gamma=0.0001, total=  31.1s\n",
      "[CV] C=0.1, gamma=0.0001 .............................................\n",
      "[CV] .............................. C=0.1, gamma=0.0001, total=  31.7s\n"
     ]
    },
    {
     "name": "stderr",
     "output_type": "stream",
     "text": [
      "[Parallel(n_jobs=1)]: Done  40 out of  40 | elapsed: 26.0min finished\n"
     ]
    },
    {
     "data": {
      "text/plain": [
       "GridSearchCV(estimator=SVC(),\n",
       "             param_grid={'C': [0.01, 0.1], 'gamma': [1, 0.1, 0.001, 0.0001]},\n",
       "             verbose=2)"
      ]
     },
     "execution_count": 11,
     "metadata": {},
     "output_type": "execute_result"
    }
   ],
   "source": [
    "## grid search\n",
    "\n",
    "param_grid = {'C':[0.01,0.1],'gamma':[1,0.1,0.01,0.001]}\n",
    "grid = GridSearchCV(SVC(kernel='rbf'),param_grid,refit = True, verbose=2)\n",
    "grid.fit(X_train,y_train)"
   ]
  },
  {
   "cell_type": "code",
   "execution_count": 12,
   "metadata": {},
   "outputs": [
    {
     "data": {
      "text/plain": [
       "{'C': 0.1, 'gamma': 0.1}"
      ]
     },
     "execution_count": 12,
     "metadata": {},
     "output_type": "execute_result"
    }
   ],
   "source": [
    "grid.best_params_"
   ]
  },
  {
   "cell_type": "markdown",
   "metadata": {},
   "source": [
    "**Fourier Random feature**"
   ]
  },
  {
   "cell_type": "code",
   "execution_count": 21,
   "metadata": {},
   "outputs": [
    {
     "name": "stdout",
     "output_type": "stream",
     "text": [
      "0\n",
      "1\n",
      "2\n",
      "3\n",
      "4\n",
      "time used: 38.50451588630676\n",
      "              precision    recall  f1-score   support\n",
      "\n",
      "          -1       0.85      0.93      0.89     24453\n",
      "           1       0.72      0.51      0.60      8108\n",
      "\n",
      "    accuracy                           0.83     32561\n",
      "   macro avg       0.79      0.72      0.74     32561\n",
      "weighted avg       0.82      0.83      0.82     32561\n",
      "\n",
      "              precision    recall  f1-score   support\n",
      "\n",
      "          -1       0.85      0.94      0.89      9561\n",
      "           1       0.72      0.50      0.59      3100\n",
      "\n",
      "    accuracy                           0.83     12661\n",
      "   macro avg       0.79      0.72      0.74     12661\n",
      "weighted avg       0.82      0.83      0.82     12661\n",
      "\n"
     ]
    }
   ],
   "source": [
    "timeu=[];i=0\n",
    "while i <5:\n",
    "    print(i)\n",
    "    start_time=time.time()\n",
    "    model1=SVC(kernel='rbf',C=0.1,gamma=0.1)\n",
    "    model1.fit(X_train,y_train)\n",
    "    timeu.append(time.time()-start_time)\n",
    "    i=i+1\n",
    "print('time used:',np.array(timeu).mean())\n",
    "pre1=model1.predict(X_train);tre1=model1.predict(X_test)\n",
    "\n",
    "print(classification_report(y_train,pre1))\n",
    "print(classification_report(y_test,tre1))"
   ]
  },
  {
   "cell_type": "code",
   "execution_count": 11,
   "metadata": {},
   "outputs": [
    {
     "data": {
      "text/plain": [
       "'0.83'"
      ]
     },
     "execution_count": 11,
     "metadata": {},
     "output_type": "execute_result"
    }
   ],
   "source": [
    "model1=SVC(kernel='rbf',C=0.1,gamma=0.1)\n",
    "model1.fit(X_train,y_train)\n",
    "pre1=model1.predict(X_train);tre1=model1.predict(X_test)\n",
    "classification_report(y_train,pre1).split( )[15]"
   ]
  },
  {
   "cell_type": "code",
   "execution_count": 14,
   "metadata": {},
   "outputs": [
    {
     "name": "stdout",
     "output_type": "stream",
     "text": [
      "0\n",
      "time used: 0.04111174106597901\n",
      "performance socre(train): 0.5763999999999999 0.19880000000000003 0.28300000000000003\n",
      "performance socre(test): 0.5676 0.19480000000000003 0.2764\n",
      "model similarity(train): 0.8548 ,(test): 0.8582000000000001\n",
      "1\n",
      "time used: 0.13557083606719972\n",
      "performance socre(train): 0.6884000000000001 0.48340000000000005 0.5673999999999999\n",
      "performance socre(test): 0.6874000000000001 0.47540000000000004 0.5628\n",
      "model similarity(train): 0.9456 ,(test): 0.945\n",
      "2\n",
      "time used: 0.19536092281341552\n",
      "performance socre(train): 0.7051999999999999 0.5268 0.6026\n",
      "performance socre(test): 0.7044 0.519 0.5966\n",
      "model similarity(train): 0.9574000000000001 ,(test): 0.9572000000000002\n",
      "3\n",
      "time used: 0.6484824991226197\n",
      "performance socre(train): 0.7263999999999998 0.5673999999999999 0.6382000000000001\n",
      "performance socre(test): 0.7202 0.5573999999999999 0.6297999999999999\n",
      "model similarity(train): 0.9594000000000001 ,(test): 0.9582\n"
     ]
    }
   ],
   "source": [
    "Dnum=[10,50,100,500]\n",
    "for j in range(4):\n",
    "    print(j)\n",
    "    timeu=[];precision=[[],[]];recall=[[],[]];f1=[[],[]];acsim=[[],[]]\n",
    "    for i in range(50):\n",
    "        N=Dnum[j]\n",
    "        d=X.shape[1];mean=np.zeros(d);variance=np.eye(d)/5\n",
    "        w=np.random.multivariate_normal(mean,variance,N)\n",
    "        b=np.random.uniform(0,2*np.pi,N)\n",
    "        X1_frf=FRF(X_train,w,b);T1_frf=FRF(X_test,w,b)\n",
    "        start_time=time.time()\n",
    "        model2=LinearSVC(C=0.1)\n",
    "        model2.fit(X1_frf,y_train)\n",
    "        timeu.append(time.time()-start_time)\n",
    "        prelib=model2.predict(X1_frf);trelib=model2.predict(T1_frf)\n",
    "        pr,re,f1x=classification_report(y_train,prelib).split( )[10:13];prt,ret,f1t=classification_report(y_test,trelib).split( )[10:13]\n",
    "        precision[0].append(pr);precision[1].append(prt);recall[0].append(re);recall[1].append(ret);f1[0].append(f1x);f1[1].append(f1t)\n",
    "        # model similarity\n",
    "        ac=classification_report(pre1,prelib).split( )[15];act=classification_report(tre1,trelib).split( )[15]\n",
    "        acsim[0].append(ac);acsim[1].append(act)\n",
    "    print('time used:',np.array(timeu).mean())\n",
    "    print('performance socre(train):',np.array(precision[0]).astype('float').mean(),np.array(recall[0]).astype('float').mean(),\n",
    "          np.array(f1[0]).astype('float').mean())\n",
    "    print('performance socre(test):',np.array(precision[1]).astype('float').mean(),np.array(recall[1]).astype('float').mean(),\n",
    "          np.array(f1[1]).astype('float').mean())\n",
    "    print('model similarity(train):',np.array(acsim[0]).astype('float').mean(),',(test):',np.array(acsim[1]).astype('float').mean())"
   ]
  },
  {
   "cell_type": "code",
   "execution_count": 15,
   "metadata": {},
   "outputs": [
    {
     "name": "stdout",
     "output_type": "stream",
     "text": [
      "61\n",
      "[0.         0.         1.         0.         0.         0.\n",
      " 0.         0.         0.         0.         0.         0.\n",
      " 0.         0.         0.         0.         0.         0.\n",
      " 0.         0.         0.         0.         0.         0.\n",
      " 0.         0.         0.         0.         0.         0.\n",
      " 0.         0.         0.         0.         0.         0.\n",
      " 0.         0.         1.         0.         1.         0.\n",
      " 0.         0.         0.         0.         0.         0.\n",
      " 0.         0.         0.         0.         0.         0.\n",
      " 0.         0.         0.         0.2739726  0.         0.\n",
      " 0.39795918]\n"
     ]
    }
   ],
   "source": [
    "# median adjustment\n",
    "print(X_train.shape[1])\n",
    "xmedian=np.array([stat.median(X_train[:,i]) for i in range(X_train.shape[1])]);print(xmedian)"
   ]
  },
  {
   "cell_type": "code",
   "execution_count": 19,
   "metadata": {},
   "outputs": [
    {
     "data": {
      "image/png": "[encoded data removed]",
      "text/plain": [
       "<Figure size 1440x720 with 6 Axes>"
      ]
     },
     "metadata": {
      "needs_background": "light"
     },
     "output_type": "display_data"
    }
   ],
   "source": [
    "fig,ax=plt.subplots(2,3,figsize=(20,10));Dnum=[5,10,20,50,100,500]\n",
    "for j in range(6):\n",
    "    approz=[]\n",
    "    for i in range(2000):\n",
    "        N=Dnum[j]\n",
    "        d=X.shape[1];mean=np.zeros(d);variance=np.eye(d)/5\n",
    "        w=np.random.multivariate_normal(mean,variance,N)\n",
    "        b=np.random.uniform(0,2*np.pi,N)\n",
    "        z=np.matmul(xmedian,w.T)+b\n",
    "        X_frf=(2/N)**0.5*np.cos(z)\n",
    "        approz.append(np.matmul(X_frf,X_frf))\n",
    "    ax[j//3,j-j//3*3].hist(np.array(approz)-1,rwidth=0.9,bins=20)\n",
    "    ax[j//3,j-j//3*3].set_xlabel('D='+str(Dnum[j]),fontsize=20)"
   ]
  },
  {
   "cell_type": "code",
   "execution_count": 17,
   "metadata": {},
   "outputs": [],
   "source": [
    "l=np.array([1,1,1,1]);we=[[],[],[],[]];np.random.seed(1)\n",
    "while len(l[np.array([len(k)>=50 for k in we])])<4:\n",
    "    d=X.shape[1];mean=np.zeros(d);variance=np.eye(d)/5\n",
    "    w=np.random.multivariate_normal(mean,variance,50)\n",
    "    b=np.random.uniform(0,2*np.pi,50)\n",
    "    z=np.matmul(xmedian,w.T)+b\n",
    "    X_frf=(2/50)**0.5*np.cos(z)\n",
    "    if np.abs(np.matmul(X_frf,X_frf)-1)<0.08 and np.abs(np.matmul(X_frf,X_frf)-1)>0:\n",
    "        # small error of median\n",
    "        we[0].append([w,b,np.matmul(X_frf,X_frf)-1])\n",
    "    elif np.abs(np.matmul(X_frf,X_frf)-1)<0.16 and np.abs(np.matmul(X_frf,X_frf)-1)>0.08:\n",
    "        # large error of median\n",
    "        we[1].append([w,b,np.matmul(X_frf,X_frf)-1])\n",
    "    elif np.abs(np.matmul(X_frf,X_frf)-1)<0.24 and np.abs(np.matmul(X_frf,X_frf)-1)>0.16:\n",
    "        # large error of median\n",
    "        we[2].append([w,b,np.matmul(X_frf,X_frf)-1])\n",
    "    elif np.abs(np.matmul(X_frf,X_frf)-1)>0.24:\n",
    "        # large error of median\n",
    "        we[3].append([w,b,np.matmul(X_frf,X_frf)-1])\n",
    "    \n",
    "par=[p[:50] for p in we]"
   ]
  },
  {
   "cell_type": "code",
   "execution_count": 18,
   "metadata": {
    "scrolled": true
   },
   "outputs": [
    {
     "name": "stdout",
     "output_type": "stream",
     "text": [
      "0\n",
      "time used: 0.18183727741241454\n",
      "performance socre(train): 0.6880000000000002 0.48260000000000003 0.5670000000000001\n",
      "performance socre(test): 0.6870000000000002 0.475 0.5616\n",
      "model similarity(train): 0.9438 ,(test): 0.9445999999999999\n",
      "1\n",
      "time used: 0.17790653705596923\n",
      "performance socre(train): 0.6873999999999999 0.48700000000000004 0.5696\n",
      "performance socre(test): 0.6857999999999999 0.48039999999999994 0.5638000000000001\n",
      "model similarity(train): 0.9432000000000003 ,(test): 0.9436000000000001\n",
      "2\n",
      "time used: 0.17014212608337403\n",
      "performance socre(train): 0.6868 0.4830000000000001 0.5668\n",
      "performance socre(test): 0.6833999999999999 0.474 0.5596\n",
      "model similarity(train): 0.9438 ,(test): 0.9436\n",
      "3\n",
      "time used: 0.17135676860809326\n",
      "performance socre(train): 0.6866 0.47700000000000004 0.5624\n",
      "performance socre(test): 0.6839999999999999 0.46980000000000005 0.557\n",
      "model similarity(train): 0.9411999999999999 ,(test): 0.9411999999999999\n"
     ]
    }
   ],
   "source": [
    "for j in range(4):\n",
    "    print(j)\n",
    "    timeu=[];precision=[[],[]];recall=[[],[]];f1=[[],[]];acsim=[[],[]]\n",
    "    for i in range(50):\n",
    "        w,b,e=par[j][i]\n",
    "        X1_frf=FRF(X_train,w,b);T1_frf=FRF(X_test,w,b)\n",
    "        start_time=time.time()\n",
    "        model2=LinearSVC(C=0.1)\n",
    "        model2.fit(X1_frf,y_train)\n",
    "        timeu.append(time.time()-start_time)\n",
    "        prelib=model2.predict(X1_frf);trelib=model2.predict(T1_frf)\n",
    "        pr,re,f1x=classification_report(y_train,prelib).split( )[10:13];prt,ret,f1t=classification_report(y_test,trelib).split( )[10:13]\n",
    "        precision[0].append(pr);precision[1].append(prt);recall[0].append(re);recall[1].append(ret);f1[0].append(f1x);f1[1].append(f1t)\n",
    "        # model similarity\n",
    "        ac=classification_report(pre1,prelib).split( )[15];act=classification_report(tre1,trelib).split( )[15]\n",
    "        acsim[0].append(ac);acsim[1].append(act)\n",
    "    print('time used:',np.array(timeu).mean())\n",
    "    print('performance socre(train):',np.array(precision[0]).astype('float').mean(),np.array(recall[0]).astype('float').mean(),\n",
    "          np.array(f1[0]).astype('float').mean())\n",
    "    print('performance socre(test):',np.array(precision[1]).astype('float').mean(),np.array(recall[1]).astype('float').mean(),\n",
    "          np.array(f1[1]).astype('float').mean())\n",
    "    print('model similarity(train):',np.array(acsim[0]).astype('float').mean(),',(test):',np.array(acsim[1]).astype('float').mean())"
   ]
  },
  {
   "cell_type": "code",
   "execution_count": 30,
   "metadata": {},
   "outputs": [
    {
     "name": "stdout",
     "output_type": "stream",
     "text": [
      "0\n",
      "1\n",
      "2\n",
      "3\n",
      "4\n",
      "5\n"
     ]
    },
    {
     "data": {
      "image/png": "[encoded data removed]",
      "text/plain": [
       "<Figure size 2160x1800 with 6 Axes>"
      ]
     },
     "metadata": {
      "needs_background": "light"
     },
     "output_type": "display_data"
    }
   ],
   "source": [
    "rd.seed(123);sigma=5**0.5;np.random.seed(1)\n",
    "xi=rd.sample([*range(X_train.shape[0])],500)\n",
    "## kernel of x_train\n",
    "gauX=np.array([[guassian(X_train[i],X_train[j],sigma)for i in xi] for j in xi]).ravel()\n",
    "\n",
    "fig,ax=plt.subplots(2,3,figsize=(30,25))\n",
    "we=[[] for i in range(6)];l=np.array([1 for i in range(6)])\n",
    "d=X.shape[1];mean=np.zeros(d);variance=np.eye(d)/5\n",
    "while len(l[np.array([len(k)>=1 for k in we])])<6:\n",
    "    w=np.random.multivariate_normal(mean,variance,100)\n",
    "    b=np.random.uniform(0,2*np.pi,100)\n",
    "    z=np.matmul(xmedian,w.T)+b\n",
    "    X_frf=(2/100)**0.5*np.cos(z)\n",
    "    if np.matmul(X_frf,X_frf)-1<0.05 and np.matmul(X_frf,X_frf)-1>0:\n",
    "        # small error of median\n",
    "        we[0].append([w,b,np.matmul(X_frf,X_frf)-1])\n",
    "    elif np.matmul(X_frf,X_frf)-1<0.1 and np.matmul(X_frf,X_frf)-1>0.05:\n",
    "        # large error of median\n",
    "        we[1].append([w,b,np.matmul(X_frf,X_frf)-1])\n",
    "    elif np.matmul(X_frf,X_frf)-1<0.15 and np.matmul(X_frf,X_frf)-1>0.1:\n",
    "        # large error of median\n",
    "        we[2].append([w,b,np.matmul(X_frf,X_frf)-1])\n",
    "    elif np.matmul(X_frf,X_frf)-1<0.2 and np.matmul(X_frf,X_frf)-1>0.15:\n",
    "        # large error of median\n",
    "        we[3].append([w,b,np.matmul(X_frf,X_frf)-1])\n",
    "    elif np.matmul(X_frf,X_frf)-1<0.25 and np.matmul(X_frf,X_frf)-1>0.2:\n",
    "        # large error of median\n",
    "        we[4].append([w,b,np.matmul(X_frf,X_frf)-1])\n",
    "    elif np.matmul(X_frf,X_frf)-1<0.3 and np.matmul(X_frf,X_frf)-1>0.25:\n",
    "        # large error of median\n",
    "        we[5].append([w,b,np.matmul(X_frf,X_frf)-1])\n",
    "\n",
    "wlist=[];blist=[];erlist=[]\n",
    "for i in range(6):\n",
    "    # find small error w,b\n",
    "    print(i)\n",
    "    ## random fourier feature approximate\n",
    "    X_frf=FRF(X_train,we[i][0][0],we[i][0][1])\n",
    "    frfX=np.array([[np.matmul(X_frf[i],X_frf[j]) for i in xi] for j in xi]).ravel()\n",
    "    \n",
    "    ax[i//3,i-i//3*3].hist(100*(frfX-gauX)/gauX,rwidth=0.9,bins=15)\n",
    "    ax[i//3,i-i//3*3].axvline(x=100*we[i][0][2],linestyle='--',label='median error='+str(round(100*we[i][0][2],2))+'%',c='red')\n",
    "    ax[i//3,i-i//3*3].legend(fontsize=20)\n",
    "    wlist.append(we[i][0][0]);blist.append(we[i][0][1]);erlist.append(we[i][0][2])\n",
    "    \n",
    "    \n",
    "plt.show()"
   ]
  },
  {
   "cell_type": "code",
   "execution_count": 19,
   "metadata": {},
   "outputs": [],
   "source": [
    "num_feature = X_train.shape[1]\n",
    "with open('svmlight_train_adult.txt','w') as f:\n",
    "    for i in range(train_length):\n",
    "        label = str(y_train[i])\n",
    "        \n",
    "        feature_pair = ''\n",
    "        for index in range(num_feature):\n",
    "            feature_pair = feature_pair + ' '+str(index+1)+':'+str(X_train[i][index])\n",
    "            \n",
    "        sample = label + feature_pair+'\\n'\n",
    "        f.writelines(sample)"
   ]
  },
  {
   "cell_type": "code",
   "execution_count": 22,
   "metadata": {},
   "outputs": [],
   "source": [
    "with open('svmlight_test_adult.txt','w') as f:\n",
    "    for i in range(X_test.shape[0]):\n",
    "        label = str(y_test[i])\n",
    "        \n",
    "        feature_pair = ''\n",
    "        for index in range(num_feature):\n",
    "            feature_pair = feature_pair + ' '+str(index+1)+':'+str(X_test[i][index])\n",
    "            \n",
    "        sample = label + feature_pair+'\\n'\n",
    "        f.writelines(sample)"
   ]
  },
  {
   "cell_type": "code",
   "execution_count": 27,
   "metadata": {},
   "outputs": [
    {
     "name": "stdout",
     "output_type": "stream",
     "text": [
      "Scanning examples...done\n",
      "Reading examples into memory...100..200..300..400..500..600..700..800..900..1000..1100..1200..1300..1400..1500..1600..1700..1800..1900..2000..2100..2200..2300..2400..2500..2600..2700..2800..2900..3000..3100..3200..3300..3400..3500..3600..3700..3800..3900..4000..4100..4200..4300..4400..4500..4600..4700..4800..4900..5000..5100..5200..5300..5400..5500..5600..5700..5800..5900..6000..6100..6200..6300..6400..6500..6600..6700..6800..6900..7000..7100..7200..7300..7400..7500..7600..7700..7800..7900..8000..8100..8200..8300..8400..8500..8600..8700..8800..8900..9000..9100..9200..9300..9400..9500..9600..9700..9800..9900..10000..10100..10200..10300..10400..10500..10600..10700..10800..10900..11000..11100..11200..11300..11400..11500..11600..11700..11800..11900..12000..12100..12200..12300..12400..12500..12600..12700..12800..12900..13000..13100..13200..13300..13400..13500..13600..13700..13800..13900..14000..14100..14200..14300..14400..14500..14600..14700..14800..14900..15000..15100..15200..15300..15400..15500..15600..15700..15800..15900..16000..16100..16200..16300..16400..16500..16600..16700..16800..16900..17000..17100..17200..17300..17400..17500..17600..17700..17800..17900..18000..18100..18200..18300..18400..18500..18600..18700..18800..18900..19000..19100..19200..19300..19400..19500..19600..19700..19800..19900..20000..20100..20200..20300..20400..20500..20600..20700..20800..20900..21000..21100..21200..21300..21400..21500..21600..21700..21800..21900..22000..22100..22200..22300..22400..22500..22600..22700..22800..22900..23000..23100..23200..23300..23400..23500..23600..23700..23800..23900..24000..24100..24200..24300..24400..24500..24600..24700..24800..24900..25000..25100..25200..25300..25400..25500..25600..25700..25800..25900..26000..26100..26200..26300..26400..26500..26600..26700..26800..26900..27000..27100..27200..27300..27400..27500..27600..27700..27800..27900..28000..28100..28200..28300..28400..28500..28600..28700..28800..28900..29000..29100..29200..29300..29400..29500..29600..29700..29800..29900..30000..30100..30200..30300..30400..30500..30600..30700..30800..30900..31000..31100..31200..31300..31400..31500..31600..31700..31800..31900..32000..32100..32200..32300..32400..32500..OK. (32561 examples read)\n",
      "Optimizing................................................................................................................................................................................................................................................................................................................................................................................................................................................................................................................................................................................................................................................................................................................................................................................................................................................................................................................................................................................................................................................................................................................................................................................................................................................................................................................................................................................................................................................................................................................................................................................................................................................................................................................................................................................................................................................................................................................................................................................................................................................................................................................................................................................................................................................................................................................................................................................................................................................................................................................................................................................................................................................................................................................................................................................................................................................................................................................................................................................................................................................................................................................................................................................................................................................................................................................................................................................................................................................................................................................................................................................................................................................................................................................................................................................................................................................................................................................................................................................................................................................................................................................................................................................................................................................................................................................................................................................................................................................................................................................................................................................................................................................................................................................................................................................................................................................................................................................................................................................................................................................................................................................................................................................................................................................................................................................................................................................................................................................................................................................................................................................................................................................................................................................................................................................................................................................................................................................................................................................................................................................................................................................................................................\n",
      " Checking optimality of inactive variables...done.\n",
      " Number of inactive variables = 32071\n",
      "done. (5921 iterations)\n",
      "Optimization finished (5577 misclassified, maxdiff=0.00099).\n",
      "Runtime in cpu-seconds: 112.56\n",
      "Number of SV: 12925 (including 12689 at upper bound)\n",
      "L1 loss: loss=11741.93066\n",
      "Norm of weight vector: |w|=10.36848\n",
      "Norm of longest example vector: |x|=1.00000\n",
      "Estimated VCdim of classifier: VCdim<=128.59383\n",
      "Computing XiAlpha-estimates...done\n",
      "Runtime for XiAlpha-estimates in cpu-seconds: 0.01\n",
      "XiAlpha-estimate of the error: error<=18.87% (rho=1.00,depth=0)\n",
      "XiAlpha-estimate of the recall: recall=>47.74% (rho=1.00,depth=0)\n",
      "XiAlpha-estimate of the precision: precision=>67.00% (rho=1.00,depth=0)\n",
      "Number of kernel evaluations: 588617615\n",
      "Writing model file...done\n"
     ]
    },
    {
     "name": "stdout",
     "output_type": "stream",
     "text": [
      "Reading model...OK. (12925 support vectors read)\n",
      "Classifying test examples..100..200..300..400..500..600..700..800..900..1000..1100..1200..1300..1400..1500..1600..1700..1800..1900..2000..2100..2200..2300..2400..2500..2600..2700..2800..2900..3000..3100..3200..3300..3400..3500..3600..3700..3800..3900..4000..4100..4200..4300..4400..4500..4600..4700..4800..4900..5000..5100..5200..5300..5400..5500..5600..5700..5800..5900..6000..6100..6200..6300..6400..6500..6600..6700..6800..6900..7000..7100..7200..7300..7400..7500..7600..7700..7800..7900..8000..8100..8200..8300..8400..8500..8600..8700..8800..8900..9000..9100..9200..9300..9400..9500..9600..9700..9800..9900..10000..10100..10200..10300..10400..10500..10600..10700..10800..10900..11000..11100..11200..11300..11400..11500..11600..11700..11800..11900..12000..12100..12200..12300..12400..12500..12600..12700..12800..12900..13000..13100..13200..13300..13400..13500..13600..13700..13800..13900..14000..14100..14200..14300..14400..14500..14600..14700..14800..14900..15000..15100..15200..15300..15400..15500..15600..15700..15800..15900..16000..16100..16200..16300..16400..16500..16600..16700..16800..16900..17000..17100..17200..17300..17400..17500..17600..17700..17800..17900..18000..18100..18200..18300..18400..18500..18600..18700..18800..18900..19000..19100..19200..19300..19400..19500..19600..19700..19800..19900..20000..20100..20200..20300..20400..20500..20600..20700..20800..20900..21000..21100..21200..21300..21400..21500..21600..21700..21800..21900..22000..22100..22200..22300..22400..22500..22600..22700..22800..22900..23000..23100..23200..23300..23400..23500..23600..23700..23800..23900..24000..24100..24200..24300..24400..24500..24600..24700..24800..24900..25000..25100..25200..25300..25400..25500..25600..25700..25800..25900..26000..26100..26200..26300..26400..26500..26600..26700..26800..26900..27000..27100..27200..27300..27400..27500..27600..27700..27800..27900..28000..28100..28200..28300..28400..28500..28600..28700..28800..28900..29000..29100..29200..29300..29400..29500..29600..29700..29800..29900..30000..30100..30200..30300..30400..30500..30600..30700..30800..30900..31000..31100..31200..31300..31400..31500..31600..31700..31800..31900..32000..32100..32200..32300..32400..32500..done\n",
      "Runtime (without IO) in cpu-seconds: 62.20\n",
      "Accuracy on test set: 82.87% (26984 correct, 5577 incorrect, 32561 total)\n",
      "Precision/recall on test set: 72.11%/50.90%\n",
      "Reading model...OK. (12925 support vectors read)\n",
      "Classifying test examples..100..200..300..400..500..600..700..800..900..1000..1100..1200..1300..1400..1500..1600..1700..1800..1900..2000..2100..2200..2300..2400..2500..2600..2700..2800..2900..3000..3100..3200..3300..3400..3500..3600..3700..3800..3900..4000..4100..4200..4300..4400..4500..4600..4700..4800..4900..5000..5100..5200..5300..5400..5500..5600..5700..5800..5900..6000..6100..6200..6300..6400..6500..6600..6700..6800..6900..7000..7100..7200..7300..7400..7500..7600..7700..7800..7900..8000..8100..8200..8300..8400..8500..8600..8700..8800..8900..9000..9100..9200..9300..9400..9500..9600..9700..9800..9900..10000..10100..10200..10300..10400..10500..10600..10700..10800..10900..11000..11100..11200..11300..11400..11500..11600..11700..11800..11900..12000..12100..12200..12300..12400..12500..12600..done\n",
      "Runtime (without IO) in cpu-seconds: 23.54\n",
      "Accuracy on test set: 83.11% (10522 correct, 2139 incorrect, 12661 total)\n",
      "Precision/recall on test set: 72.30%/50.26%\n"
     ]
    }
   ],
   "source": [
    "# SVMlight -z:classify,-c: C=0.1, -t:rbf kernel, -g: gamma=0.1\n",
    "!svm_learn.exe -z c -c 0.1 -t 2 -g 0.1 svmlight_train_adult.txt\n",
    "\n",
    "!svm_classify.exe svmlight_train_adult.txt svm_model train_adult.txt\n",
    "\n",
    "!svm_classify.exe svmlight_test_adult.txt svm_model test_adult.txt"
   ]
  }
 ],
 "metadata": {
  "kernelspec": {
   "display_name": "Python 3",
   "language": "python",
   "name": "python3"
  },
  "language_info": {
   "codemirror_mode": {
    "name": "ipython",
    "version": 3
   },
   "file_extension": ".py",
   "mimetype": "text/x-python",
   "name": "python",
   "nbconvert_exporter": "python",
   "pygments_lexer": "ipython3",
   "version": "3.8.5"
  }
 },
 "nbformat": 4,
 "nbformat_minor": 4
}
